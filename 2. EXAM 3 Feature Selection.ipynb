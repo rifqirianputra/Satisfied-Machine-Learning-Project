{
 "metadata": {
  "language_info": {
   "codemirror_mode": {
    "name": "ipython",
    "version": 3
   },
   "file_extension": ".py",
   "mimetype": "text/x-python",
   "name": "python",
   "nbconvert_exporter": "python",
   "pygments_lexer": "ipython3",
   "version": 3
  },
  "orig_nbformat": 2,
  "kernelspec": {
   "name": "python_defaultSpec_1597133130278",
   "display_name": "Python 3.8.3 64-bit"
  }
 },
 "nbformat": 4,
 "nbformat_minor": 2,
 "cells": [
  {
   "cell_type": "markdown",
   "metadata": {},
   "source": [
    "PROBLEM: Employee satisfaction bisa berpengaruh terhadap kinerja kerja dan akan berdampak terhadap KPI dalam perusahaan\n",
    "oleh karena itu, dalam project ini, saya ingin melihat apa saja yang dapat dilakukan oleh HR dalam hiring agar kecenderungan staff yang akan direkrut adalah staff yang akan memiliki tingkat kepuasan kerja tinggi di dalam perusahaan tersebut"
   ]
  },
  {
   "cell_type": "markdown",
   "metadata": {},
   "source": [
    "PROJECT: project ini akan dilakukan untuk memprediksi faktor apa saja yang membuat seorang staff puas bekerja di perusahaan tsb."
   ]
  },
  {
   "cell_type": "markdown",
   "metadata": {},
   "source": [
    "Python Packages"
   ]
  },
  {
   "cell_type": "code",
   "execution_count": 18,
   "metadata": {},
   "outputs": [],
   "source": [
    "import pandas as pd\n",
    "import numpy as np\n",
    "import matplotlib.pyplot as plt\n",
    "import seaborn as sns\n",
    "\n",
    "%matplotlib inline"
   ]
  },
  {
   "cell_type": "code",
   "execution_count": 19,
   "metadata": {},
   "outputs": [],
   "source": [
    "df = pd.read_csv('satisfaction.csv',index_col=0)"
   ]
  },
  {
   "cell_type": "code",
   "execution_count": 20,
   "metadata": {},
   "outputs": [
    {
     "output_type": "execute_result",
     "data": {
      "text/plain": "     emp_id  age        Dept location education    recruitment_type  \\\n0    HR8270   28          HR   Suburb        PG            Referral   \n1  TECH1860   50  Technology   Suburb        PG             Walk-in   \n2  TECH6390   43  Technology   Suburb        UG            Referral   \n3   SAL6191   44       Sales     City        PG           On-Campus   \n4    HR6734   33          HR     City        UG  Recruitment Agency   \n\n   job_level  rating  onsite  awards  certifications  salary  satisfied  \n0          5       2       0       1               0   86750          1  \n1          3       5       1       2               1   42419          0  \n2          4       1       0       2               0   65715          0  \n3          2       3       1       0               0   29805          1  \n4          2       1       0       5               0   29805          1  ",
      "text/html": "<div>\n<style scoped>\n    .dataframe tbody tr th:only-of-type {\n        vertical-align: middle;\n    }\n\n    .dataframe tbody tr th {\n        vertical-align: top;\n    }\n\n    .dataframe thead th {\n        text-align: right;\n    }\n</style>\n<table border=\"1\" class=\"dataframe\">\n  <thead>\n    <tr style=\"text-align: right;\">\n      <th></th>\n      <th>emp_id</th>\n      <th>age</th>\n      <th>Dept</th>\n      <th>location</th>\n      <th>education</th>\n      <th>recruitment_type</th>\n      <th>job_level</th>\n      <th>rating</th>\n      <th>onsite</th>\n      <th>awards</th>\n      <th>certifications</th>\n      <th>salary</th>\n      <th>satisfied</th>\n    </tr>\n  </thead>\n  <tbody>\n    <tr>\n      <th>0</th>\n      <td>HR8270</td>\n      <td>28</td>\n      <td>HR</td>\n      <td>Suburb</td>\n      <td>PG</td>\n      <td>Referral</td>\n      <td>5</td>\n      <td>2</td>\n      <td>0</td>\n      <td>1</td>\n      <td>0</td>\n      <td>86750</td>\n      <td>1</td>\n    </tr>\n    <tr>\n      <th>1</th>\n      <td>TECH1860</td>\n      <td>50</td>\n      <td>Technology</td>\n      <td>Suburb</td>\n      <td>PG</td>\n      <td>Walk-in</td>\n      <td>3</td>\n      <td>5</td>\n      <td>1</td>\n      <td>2</td>\n      <td>1</td>\n      <td>42419</td>\n      <td>0</td>\n    </tr>\n    <tr>\n      <th>2</th>\n      <td>TECH6390</td>\n      <td>43</td>\n      <td>Technology</td>\n      <td>Suburb</td>\n      <td>UG</td>\n      <td>Referral</td>\n      <td>4</td>\n      <td>1</td>\n      <td>0</td>\n      <td>2</td>\n      <td>0</td>\n      <td>65715</td>\n      <td>0</td>\n    </tr>\n    <tr>\n      <th>3</th>\n      <td>SAL6191</td>\n      <td>44</td>\n      <td>Sales</td>\n      <td>City</td>\n      <td>PG</td>\n      <td>On-Campus</td>\n      <td>2</td>\n      <td>3</td>\n      <td>1</td>\n      <td>0</td>\n      <td>0</td>\n      <td>29805</td>\n      <td>1</td>\n    </tr>\n    <tr>\n      <th>4</th>\n      <td>HR6734</td>\n      <td>33</td>\n      <td>HR</td>\n      <td>City</td>\n      <td>UG</td>\n      <td>Recruitment Agency</td>\n      <td>2</td>\n      <td>1</td>\n      <td>0</td>\n      <td>5</td>\n      <td>0</td>\n      <td>29805</td>\n      <td>1</td>\n    </tr>\n  </tbody>\n</table>\n</div>"
     },
     "metadata": {},
     "execution_count": 20
    }
   ],
   "source": [
    "df.head()"
   ]
  },
  {
   "cell_type": "markdown",
   "metadata": {},
   "source": [
    "TO DROP, NOR NOT TO DROP"
   ]
  },
  {
   "cell_type": "markdown",
   "metadata": {},
   "source": []
  },
  {
   "cell_type": "markdown",
   "metadata": {},
   "source": [
    "emp_id saya drop dikarenakan index sudah menggunakan kolom 0 dan emp_id hanya merupakan kode unik setiap staff."
   ]
  },
  {
   "cell_type": "code",
   "execution_count": 21,
   "metadata": {},
   "outputs": [],
   "source": [
    "df.drop(columns=['emp_id'],inplace=True)"
   ]
  },
  {
   "cell_type": "markdown",
   "metadata": {},
   "source": [
    "dari file sebelumnya, saya melihat bahwa Job Level dan Gaji memiliki kecenderungan yang sama, dengan 5 unique value\n",
    "oleh karena itu, saya akan melakukan drop terhadap salary, dikarenakan salary seragam pada setiap job levelnya."
   ]
  },
  {
   "cell_type": "code",
   "execution_count": 22,
   "metadata": {},
   "outputs": [
    {
     "output_type": "execute_result",
     "data": {
      "text/plain": "65715    110\n29805    110\n86750    103\n24076     95\n42419     82\nName: salary, dtype: int64"
     },
     "metadata": {},
     "execution_count": 22
    }
   ],
   "source": [
    "df['salary'].value_counts()"
   ]
  },
  {
   "cell_type": "code",
   "execution_count": 23,
   "metadata": {},
   "outputs": [
    {
     "output_type": "execute_result",
     "data": {
      "text/plain": "4    110\n2    110\n5    103\n1     95\n3     82\nName: job_level, dtype: int64"
     },
     "metadata": {},
     "execution_count": 23
    }
   ],
   "source": [
    "df['job_level'].value_counts()"
   ]
  },
  {
   "cell_type": "code",
   "execution_count": 24,
   "metadata": {},
   "outputs": [],
   "source": [
    "df.drop(columns=['salary'],inplace=True)"
   ]
  },
  {
   "cell_type": "markdown",
   "metadata": {},
   "source": [
    "mengingat apabila masuk ke dalam perusahaan dan telah bekerja disana, terkadang jalur masuk bukan lagi jadi peranan penting karena dari semua jalur masuk, tujuannya adalah diterima kerja..\n",
    "apabila staff sudah diterima kerja, dugaan saya adalah jalur masuk tidak lagi jadi peranan penting dalam kepuasan individu yang bekerja di dalam perusahaan tsb"
   ]
  },
  {
   "cell_type": "code",
   "execution_count": 25,
   "metadata": {},
   "outputs": [],
   "source": [
    "df.drop(columns=['recruitment_type'],inplace=True)"
   ]
  },
  {
   "cell_type": "markdown",
   "metadata": {},
   "source": [
    "STRING TO NUMERICAL CONVERSION"
   ]
  },
  {
   "cell_type": "markdown",
   "metadata": {},
   "source": [
    "agar model dapat membaca dataframe, maka ada beberapa value yang harus diubah ke float/int\n",
    "berikut adalah list note agar tidak tertukar\n",
    "\n",
    "DEPT    HR                      : 0\n",
    "        Technology              : 1\n",
    "        Sales                   : 2\n",
    "        Purchasing              : 3\n",
    "        Marketing               : 4\n",
    "location     Suburb             : 0\n",
    "            City                : 1\n",
    "education   UG                  : 0\n",
    "            PG                  : 1\n",
    "\n"
   ]
  },
  {
   "cell_type": "code",
   "execution_count": 26,
   "metadata": {},
   "outputs": [],
   "source": [
    "df['Dept']=df['Dept'].map({'HR':0,'Technology':1,'Sales':2,'Purchasing':3,'Marketing':4})\n",
    "df['location']=df['location'].map({'Suburb':0,'City':1})\n",
    "df['education']=df['education'].map({'UG':0,'PG':1})"
   ]
  },
  {
   "cell_type": "code",
   "execution_count": 27,
   "metadata": {},
   "outputs": [
    {
     "output_type": "execute_result",
     "data": {
      "text/plain": "     age  Dept  location  education  job_level  rating  onsite  awards  \\\n0     28     0         0          1          5       2       0       1   \n1     50     1         0          1          3       5       1       2   \n2     43     1         0          0          4       1       0       2   \n3     44     2         1          1          2       3       1       0   \n4     33     0         1          0          2       1       0       5   \n..   ...   ...       ...        ...        ...     ...     ...     ...   \n495   49     0         0          1          2       5       0       6   \n496   24     1         0          0          2       4       0       2   \n497   34     4         1          1          1       3       0       2   \n498   26     1         1          0          2       1       1       1   \n499   26     1         1          0          3       4       0       3   \n\n     certifications  satisfied  \n0                 0          1  \n1                 1          0  \n2                 0          0  \n3                 0          1  \n4                 0          1  \n..              ...        ...  \n495               0          1  \n496               0          0  \n497               0          1  \n498               1          0  \n499               0          0  \n\n[500 rows x 10 columns]",
      "text/html": "<div>\n<style scoped>\n    .dataframe tbody tr th:only-of-type {\n        vertical-align: middle;\n    }\n\n    .dataframe tbody tr th {\n        vertical-align: top;\n    }\n\n    .dataframe thead th {\n        text-align: right;\n    }\n</style>\n<table border=\"1\" class=\"dataframe\">\n  <thead>\n    <tr style=\"text-align: right;\">\n      <th></th>\n      <th>age</th>\n      <th>Dept</th>\n      <th>location</th>\n      <th>education</th>\n      <th>job_level</th>\n      <th>rating</th>\n      <th>onsite</th>\n      <th>awards</th>\n      <th>certifications</th>\n      <th>satisfied</th>\n    </tr>\n  </thead>\n  <tbody>\n    <tr>\n      <th>0</th>\n      <td>28</td>\n      <td>0</td>\n      <td>0</td>\n      <td>1</td>\n      <td>5</td>\n      <td>2</td>\n      <td>0</td>\n      <td>1</td>\n      <td>0</td>\n      <td>1</td>\n    </tr>\n    <tr>\n      <th>1</th>\n      <td>50</td>\n      <td>1</td>\n      <td>0</td>\n      <td>1</td>\n      <td>3</td>\n      <td>5</td>\n      <td>1</td>\n      <td>2</td>\n      <td>1</td>\n      <td>0</td>\n    </tr>\n    <tr>\n      <th>2</th>\n      <td>43</td>\n      <td>1</td>\n      <td>0</td>\n      <td>0</td>\n      <td>4</td>\n      <td>1</td>\n      <td>0</td>\n      <td>2</td>\n      <td>0</td>\n      <td>0</td>\n    </tr>\n    <tr>\n      <th>3</th>\n      <td>44</td>\n      <td>2</td>\n      <td>1</td>\n      <td>1</td>\n      <td>2</td>\n      <td>3</td>\n      <td>1</td>\n      <td>0</td>\n      <td>0</td>\n      <td>1</td>\n    </tr>\n    <tr>\n      <th>4</th>\n      <td>33</td>\n      <td>0</td>\n      <td>1</td>\n      <td>0</td>\n      <td>2</td>\n      <td>1</td>\n      <td>0</td>\n      <td>5</td>\n      <td>0</td>\n      <td>1</td>\n    </tr>\n    <tr>\n      <th>...</th>\n      <td>...</td>\n      <td>...</td>\n      <td>...</td>\n      <td>...</td>\n      <td>...</td>\n      <td>...</td>\n      <td>...</td>\n      <td>...</td>\n      <td>...</td>\n      <td>...</td>\n    </tr>\n    <tr>\n      <th>495</th>\n      <td>49</td>\n      <td>0</td>\n      <td>0</td>\n      <td>1</td>\n      <td>2</td>\n      <td>5</td>\n      <td>0</td>\n      <td>6</td>\n      <td>0</td>\n      <td>1</td>\n    </tr>\n    <tr>\n      <th>496</th>\n      <td>24</td>\n      <td>1</td>\n      <td>0</td>\n      <td>0</td>\n      <td>2</td>\n      <td>4</td>\n      <td>0</td>\n      <td>2</td>\n      <td>0</td>\n      <td>0</td>\n    </tr>\n    <tr>\n      <th>497</th>\n      <td>34</td>\n      <td>4</td>\n      <td>1</td>\n      <td>1</td>\n      <td>1</td>\n      <td>3</td>\n      <td>0</td>\n      <td>2</td>\n      <td>0</td>\n      <td>1</td>\n    </tr>\n    <tr>\n      <th>498</th>\n      <td>26</td>\n      <td>1</td>\n      <td>1</td>\n      <td>0</td>\n      <td>2</td>\n      <td>1</td>\n      <td>1</td>\n      <td>1</td>\n      <td>1</td>\n      <td>0</td>\n    </tr>\n    <tr>\n      <th>499</th>\n      <td>26</td>\n      <td>1</td>\n      <td>1</td>\n      <td>0</td>\n      <td>3</td>\n      <td>4</td>\n      <td>0</td>\n      <td>3</td>\n      <td>0</td>\n      <td>0</td>\n    </tr>\n  </tbody>\n</table>\n<p>500 rows × 10 columns</p>\n</div>"
     },
     "metadata": {},
     "execution_count": 27
    }
   ],
   "source": [
    "df"
   ]
  },
  {
   "cell_type": "code",
   "execution_count": 28,
   "metadata": {},
   "outputs": [
    {
     "output_type": "execute_result",
     "data": {
      "text/plain": "     age  Dept  location  education  job_level  rating  onsite  awards  \\\n0     28     0         0          1          5       2       0       1   \n1     50     1         0          1          3       5       1       2   \n2     43     1         0          0          4       1       0       2   \n3     44     2         1          1          2       3       1       0   \n4     33     0         1          0          2       1       0       5   \n..   ...   ...       ...        ...        ...     ...     ...     ...   \n495   49     0         0          1          2       5       0       6   \n496   24     1         0          0          2       4       0       2   \n497   34     4         1          1          1       3       0       2   \n498   26     1         1          0          2       1       1       1   \n499   26     1         1          0          3       4       0       3   \n\n     certifications  satisfied  \n0                 0          1  \n1                 1          0  \n2                 0          0  \n3                 0          1  \n4                 0          1  \n..              ...        ...  \n495               0          1  \n496               0          0  \n497               0          1  \n498               1          0  \n499               0          0  \n\n[500 rows x 10 columns]",
      "text/html": "<div>\n<style scoped>\n    .dataframe tbody tr th:only-of-type {\n        vertical-align: middle;\n    }\n\n    .dataframe tbody tr th {\n        vertical-align: top;\n    }\n\n    .dataframe thead th {\n        text-align: right;\n    }\n</style>\n<table border=\"1\" class=\"dataframe\">\n  <thead>\n    <tr style=\"text-align: right;\">\n      <th></th>\n      <th>age</th>\n      <th>Dept</th>\n      <th>location</th>\n      <th>education</th>\n      <th>job_level</th>\n      <th>rating</th>\n      <th>onsite</th>\n      <th>awards</th>\n      <th>certifications</th>\n      <th>satisfied</th>\n    </tr>\n  </thead>\n  <tbody>\n    <tr>\n      <th>0</th>\n      <td>28</td>\n      <td>0</td>\n      <td>0</td>\n      <td>1</td>\n      <td>5</td>\n      <td>2</td>\n      <td>0</td>\n      <td>1</td>\n      <td>0</td>\n      <td>1</td>\n    </tr>\n    <tr>\n      <th>1</th>\n      <td>50</td>\n      <td>1</td>\n      <td>0</td>\n      <td>1</td>\n      <td>3</td>\n      <td>5</td>\n      <td>1</td>\n      <td>2</td>\n      <td>1</td>\n      <td>0</td>\n    </tr>\n    <tr>\n      <th>2</th>\n      <td>43</td>\n      <td>1</td>\n      <td>0</td>\n      <td>0</td>\n      <td>4</td>\n      <td>1</td>\n      <td>0</td>\n      <td>2</td>\n      <td>0</td>\n      <td>0</td>\n    </tr>\n    <tr>\n      <th>3</th>\n      <td>44</td>\n      <td>2</td>\n      <td>1</td>\n      <td>1</td>\n      <td>2</td>\n      <td>3</td>\n      <td>1</td>\n      <td>0</td>\n      <td>0</td>\n      <td>1</td>\n    </tr>\n    <tr>\n      <th>4</th>\n      <td>33</td>\n      <td>0</td>\n      <td>1</td>\n      <td>0</td>\n      <td>2</td>\n      <td>1</td>\n      <td>0</td>\n      <td>5</td>\n      <td>0</td>\n      <td>1</td>\n    </tr>\n    <tr>\n      <th>...</th>\n      <td>...</td>\n      <td>...</td>\n      <td>...</td>\n      <td>...</td>\n      <td>...</td>\n      <td>...</td>\n      <td>...</td>\n      <td>...</td>\n      <td>...</td>\n      <td>...</td>\n    </tr>\n    <tr>\n      <th>495</th>\n      <td>49</td>\n      <td>0</td>\n      <td>0</td>\n      <td>1</td>\n      <td>2</td>\n      <td>5</td>\n      <td>0</td>\n      <td>6</td>\n      <td>0</td>\n      <td>1</td>\n    </tr>\n    <tr>\n      <th>496</th>\n      <td>24</td>\n      <td>1</td>\n      <td>0</td>\n      <td>0</td>\n      <td>2</td>\n      <td>4</td>\n      <td>0</td>\n      <td>2</td>\n      <td>0</td>\n      <td>0</td>\n    </tr>\n    <tr>\n      <th>497</th>\n      <td>34</td>\n      <td>4</td>\n      <td>1</td>\n      <td>1</td>\n      <td>1</td>\n      <td>3</td>\n      <td>0</td>\n      <td>2</td>\n      <td>0</td>\n      <td>1</td>\n    </tr>\n    <tr>\n      <th>498</th>\n      <td>26</td>\n      <td>1</td>\n      <td>1</td>\n      <td>0</td>\n      <td>2</td>\n      <td>1</td>\n      <td>1</td>\n      <td>1</td>\n      <td>1</td>\n      <td>0</td>\n    </tr>\n    <tr>\n      <th>499</th>\n      <td>26</td>\n      <td>1</td>\n      <td>1</td>\n      <td>0</td>\n      <td>3</td>\n      <td>4</td>\n      <td>0</td>\n      <td>3</td>\n      <td>0</td>\n      <td>0</td>\n    </tr>\n  </tbody>\n</table>\n<p>500 rows × 10 columns</p>\n</div>"
     },
     "metadata": {},
     "execution_count": 28
    }
   ],
   "source": [
    "df"
   ]
  },
  {
   "cell_type": "code",
   "execution_count": 29,
   "metadata": {},
   "outputs": [
    {
     "output_type": "execute_result",
     "data": {
      "text/plain": "age               int64\nDept              int64\nlocation          int64\neducation         int64\njob_level         int64\nrating            int64\nonsite            int64\nawards            int64\ncertifications    int64\nsatisfied         int64\ndtype: object"
     },
     "metadata": {},
     "execution_count": 29
    }
   ],
   "source": [
    "df.dtypes"
   ]
  },
  {
   "cell_type": "code",
   "execution_count": 17,
   "metadata": {},
   "outputs": [],
   "source": []
  },
  {
   "cell_type": "code",
   "execution_count": 30,
   "metadata": {},
   "outputs": [],
   "source": [
    "df.to_csv('converted.csv')"
   ]
  },
  {
   "cell_type": "code",
   "execution_count": null,
   "metadata": {},
   "outputs": [],
   "source": []
  }
 ]
}